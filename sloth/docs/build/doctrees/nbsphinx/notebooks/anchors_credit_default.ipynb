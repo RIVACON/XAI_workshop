{
 "cells": [
  {
   "cell_type": "markdown",
   "id": "e04b2c20",
   "metadata": {},
   "source": [
    "# Anchors"
   ]
  },
  {
   "cell_type": "code",
   "execution_count": 2,
   "id": "545d9bb3",
   "metadata": {
    "ExecuteTime": {
     "end_time": "2023-05-22T12:34:18.540073Z",
     "start_time": "2023-05-22T12:34:17.876593Z"
    }
   },
   "outputs": [
    {
     "name": "stderr",
     "output_type": "stream",
     "text": [
      "C:\\Users/doeltz/development/RiVaPy\\rivapy\\__init__.py:11: UserWarning: The pyvacon module is not available. You may not use all functionality without this module. Consider installing pyvacon.\n",
      "  warnings.warn('The pyvacon module is not available. You may not use all functionality without this module. Consider installing pyvacon.')\n"
     ]
    }
   ],
   "source": [
    "import logging\n",
    "import numpy as np\n",
    "import seaborn as sn\n",
    "import config\n",
    "import matplotlib.pyplot as plt\n",
    "import sloth\n",
    "logger = logging.getLogger('sloth')\n",
    "logger.setLevel(level=logging.DEBUG)\n",
    "\n",
    "sn.set_style(\"whitegrid\")\n",
    "\n",
    "%matplotlib inline\n",
    "%load_ext autoreload\n",
    "%autoreload 2"
   ]
  },
  {
   "cell_type": "code",
   "execution_count": 1,
   "id": "c30dbbeb",
   "metadata": {
    "ExecuteTime": {
     "end_time": "2023-05-22T12:39:05.666985Z",
     "start_time": "2023-05-22T12:39:04.252444Z"
    }
   },
   "outputs": [
    {
     "ename": "NameError",
     "evalue": "name 'sloth' is not defined",
     "output_type": "error",
     "traceback": [
      "\u001b[1;31m---------------------------------------------------------------------------\u001b[0m",
      "\u001b[1;31mNameError\u001b[0m                                 Traceback (most recent call last)",
      "Cell \u001b[1;32mIn[1], line 2\u001b[0m\n\u001b[0;32m      1\u001b[0m \u001b[38;5;66;03m# get a sample validation task from a synthetic credit default model\u001b[39;00m\n\u001b[1;32m----> 2\u001b[0m validation_task \u001b[38;5;241m=\u001b[39m sloth\u001b[38;5;241m.\u001b[39mdatasets\u001b[38;5;241m.\u001b[39mcredit_default\u001b[38;5;241m.\u001b[39mget(dataset\u001b[38;5;241m=\u001b[39m\u001b[38;5;241m2\u001b[39m, model\u001b[38;5;241m=\u001b[39m\u001b[38;5;241m0\u001b[39m)\n",
      "\u001b[1;31mNameError\u001b[0m: name 'sloth' is not defined"
     ]
    }
   ],
   "source": [
    "# get a sample validation task from a synthetic credit default model\n",
    "validation_task = sloth.datasets.credit_default.get(dataset=2, model=0)"
   ]
  },
  {
   "cell_type": "code",
   "execution_count": null,
   "id": "af222d89",
   "metadata": {
    "ExecuteTime": {
     "end_time": "2023-05-22T12:39:05.684209Z",
     "start_time": "2023-05-22T12:39:05.668088Z"
    }
   },
   "outputs": [],
   "source": [
    "anchor_params = sloth.AnchorParameter(threshold=0.5)\n",
    "anchors = sloth.Anchors(validation_task, anchor_params)"
   ]
  },
  {
   "cell_type": "code",
   "execution_count": 46,
   "id": "a819b988",
   "metadata": {
    "ExecuteTime": {
     "end_time": "2023-05-22T12:39:06.450525Z",
     "start_time": "2023-05-22T12:39:06.354342Z"
    }
   },
   "outputs": [
    {
     "data": {
      "text/html": [
       "<div>\n",
       "<style scoped>\n",
       "    .dataframe tbody tr th:only-of-type {\n",
       "        vertical-align: middle;\n",
       "    }\n",
       "\n",
       "    .dataframe tbody tr th {\n",
       "        vertical-align: top;\n",
       "    }\n",
       "\n",
       "    .dataframe thead th {\n",
       "        text-align: right;\n",
       "    }\n",
       "</style>\n",
       "<table border=\"1\" class=\"dataframe\">\n",
       "  <thead>\n",
       "    <tr style=\"text-align: right;\">\n",
       "      <th></th>\n",
       "      <th>anchor</th>\n",
       "      <th>precision</th>\n",
       "      <th>coverage</th>\n",
       "      <th>point</th>\n",
       "      <th>target</th>\n",
       "    </tr>\n",
       "  </thead>\n",
       "  <tbody>\n",
       "    <tr>\n",
       "      <th>0</th>\n",
       "      <td></td>\n",
       "      <td>[0.84]</td>\n",
       "      <td>1</td>\n",
       "      <td>0</td>\n",
       "      <td>0.006079</td>\n",
       "    </tr>\n",
       "    <tr>\n",
       "      <th>1</th>\n",
       "      <td></td>\n",
       "      <td>[0.76]</td>\n",
       "      <td>1</td>\n",
       "      <td>10</td>\n",
       "      <td>0.000577</td>\n",
       "    </tr>\n",
       "    <tr>\n",
       "      <th>2</th>\n",
       "      <td></td>\n",
       "      <td>[0.76]</td>\n",
       "      <td>1</td>\n",
       "      <td>20</td>\n",
       "      <td>0.000602</td>\n",
       "    </tr>\n",
       "  </tbody>\n",
       "</table>\n",
       "</div>"
      ],
      "text/plain": [
       "  anchor precision  coverage  point    target\n",
       "0           [0.84]         1      0  0.006079\n",
       "1           [0.76]         1     10  0.000577\n",
       "2           [0.76]         1     20  0.000602"
      ]
     },
     "execution_count": 46,
     "metadata": {},
     "output_type": "execute_result"
    }
   ],
   "source": [
    "anchors.compute(point=[0,10,20])"
   ]
  },
  {
   "cell_type": "code",
   "execution_count": 20,
   "id": "2612ac80",
   "metadata": {
    "ExecuteTime": {
     "end_time": "2023-05-22T12:23:31.241828Z",
     "start_time": "2023-05-22T12:23:30.714411Z"
    }
   },
   "outputs": [],
   "source": [
    "import numpy as np\n",
    "from sklearn.ensemble import RandomForestClassifier\n",
    "from sklearn.compose import ColumnTransformer\n",
    "from sklearn.pipeline import Pipeline\n",
    "from sklearn.impute import SimpleImputer\n",
    "from sklearn.metrics import accuracy_score\n",
    "from sklearn.preprocessing import StandardScaler, OneHotEncoder\n",
    "from alibi.explainers import AnchorTabular\n",
    "from alibi.datasets import fetch_adult"
   ]
  },
  {
   "cell_type": "code",
   "execution_count": 21,
   "id": "d1b3faee",
   "metadata": {
    "ExecuteTime": {
     "end_time": "2023-05-22T12:25:00.451929Z",
     "start_time": "2023-05-22T12:24:54.197932Z"
    }
   },
   "outputs": [],
   "source": [
    "adult = fetch_adult()\n",
    "adult.keys()\n",
    "from alibi.utils import gen_category_map\n",
    "feature_names = adult.feature_names\n",
    "category_map = adult.category_map"
   ]
  },
  {
   "cell_type": "code",
   "execution_count": 25,
   "id": "957bc4db",
   "metadata": {
    "ExecuteTime": {
     "end_time": "2023-05-22T12:26:24.384233Z",
     "start_time": "2023-05-22T12:26:24.324347Z"
    }
   },
   "outputs": [
    {
     "data": {
      "text/plain": [
       "['Age',\n",
       " 'Workclass',\n",
       " 'Education',\n",
       " 'Marital Status',\n",
       " 'Occupation',\n",
       " 'Relationship',\n",
       " 'Race',\n",
       " 'Sex',\n",
       " 'Capital Gain',\n",
       " 'Capital Loss',\n",
       " 'Hours per week',\n",
       " 'Country']"
      ]
     },
     "execution_count": 25,
     "metadata": {},
     "output_type": "execute_result"
    }
   ],
   "source": [
    "feature_names"
   ]
  },
  {
   "cell_type": "code",
   "execution_count": 27,
   "id": "4cc9327d",
   "metadata": {
    "ExecuteTime": {
     "end_time": "2023-05-22T12:28:08.253034Z",
     "start_time": "2023-05-22T12:28:08.236037Z"
    }
   },
   "outputs": [
    {
     "data": {
      "text/plain": [
       "(32561, 12)"
      ]
     },
     "execution_count": 27,
     "metadata": {},
     "output_type": "execute_result"
    }
   ],
   "source": [
    "adult.data.shape"
   ]
  },
  {
   "cell_type": "code",
   "execution_count": 23,
   "id": "cdbd6fd6",
   "metadata": {
    "ExecuteTime": {
     "end_time": "2023-05-22T12:25:19.074482Z",
     "start_time": "2023-05-22T12:25:19.056770Z"
    }
   },
   "outputs": [
    {
     "data": {
      "text/plain": [
       "{1: ['?',\n",
       "  'Federal-gov',\n",
       "  'Local-gov',\n",
       "  'Never-worked',\n",
       "  'Private',\n",
       "  'Self-emp-inc',\n",
       "  'Self-emp-not-inc',\n",
       "  'State-gov',\n",
       "  'Without-pay'],\n",
       " 2: ['Associates',\n",
       "  'Bachelors',\n",
       "  'Doctorate',\n",
       "  'Dropout',\n",
       "  'High School grad',\n",
       "  'Masters',\n",
       "  'Prof-School'],\n",
       " 3: ['Married', 'Never-Married', 'Separated', 'Widowed'],\n",
       " 4: ['?',\n",
       "  'Admin',\n",
       "  'Blue-Collar',\n",
       "  'Military',\n",
       "  'Other',\n",
       "  'Professional',\n",
       "  'Sales',\n",
       "  'Service',\n",
       "  'White-Collar'],\n",
       " 5: ['Husband',\n",
       "  'Not-in-family',\n",
       "  'Other-relative',\n",
       "  'Own-child',\n",
       "  'Unmarried',\n",
       "  'Wife'],\n",
       " 6: ['Amer-Indian-Eskimo', 'Asian-Pac-Islander', 'Black', 'Other', 'White'],\n",
       " 7: ['Female', 'Male'],\n",
       " 11: ['?',\n",
       "  'British-Commonwealth',\n",
       "  'China',\n",
       "  'Euro_1',\n",
       "  'Euro_2',\n",
       "  'Latin-America',\n",
       "  'Other',\n",
       "  'SE-Asia',\n",
       "  'South-America',\n",
       "  'United-States',\n",
       "  'Yugoslavia']}"
      ]
     },
     "execution_count": 23,
     "metadata": {},
     "output_type": "execute_result"
    }
   ],
   "source": [
    "category_map"
   ]
  }
 ],
 "metadata": {
  "hide_input": false,
  "kernelspec": {
   "display_name": "Python 3 (ipykernel)",
   "language": "python",
   "name": "python3"
  },
  "language_info": {
   "codemirror_mode": {
    "name": "ipython",
    "version": 3
   },
   "file_extension": ".py",
   "mimetype": "text/x-python",
   "name": "python",
   "nbconvert_exporter": "python",
   "pygments_lexer": "ipython3",
   "version": "3.9.7"
  },
  "toc": {
   "base_numbering": 1,
   "nav_menu": {},
   "number_sections": true,
   "sideBar": true,
   "skip_h1_title": false,
   "title_cell": "Table of Contents",
   "title_sidebar": "Contents",
   "toc_cell": false,
   "toc_position": {
    "height": "calc(100% - 180px)",
    "left": "10px",
    "top": "150px",
    "width": "230.99px"
   },
   "toc_section_display": true,
   "toc_window_display": true
  }
 },
 "nbformat": 4,
 "nbformat_minor": 5
}
