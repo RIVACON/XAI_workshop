{
 "cells": [
  {
   "cell_type": "markdown",
   "id": "4a9f2252",
   "metadata": {},
   "source": [
    "# Cohort Shapley Values"
   ]
  },
  {
   "cell_type": "code",
   "execution_count": 1,
   "id": "c1f9b19a",
   "metadata": {
    "ExecuteTime": {
     "end_time": "2023-07-14T08:39:53.668320Z",
     "start_time": "2023-07-14T08:39:49.448692Z"
    },
    "execution": {
     "iopub.execute_input": "2024-04-24T09:41:43.177356Z",
     "iopub.status.busy": "2024-04-24T09:41:43.175977Z",
     "iopub.status.idle": "2024-04-24T09:41:45.546174Z",
     "shell.execute_reply": "2024-04-24T09:41:45.545664Z"
    }
   },
   "outputs": [
    {
     "ename": "ModuleNotFoundError",
     "evalue": "No module named 'sloth'",
     "output_type": "error",
     "traceback": [
      "\u001b[1;31m---------------------------------------------------------------------------\u001b[0m",
      "\u001b[1;31mModuleNotFoundError\u001b[0m                       Traceback (most recent call last)",
      "Cell \u001b[1;32mIn[1], line 5\u001b[0m\n\u001b[0;32m      3\u001b[0m sys\u001b[38;5;241m.\u001b[39mpath\u001b[38;5;241m.\u001b[39mappend(\u001b[38;5;124m'\u001b[39m\u001b[38;5;124mC:/Users/dsoellheim/PycharmProjects/\u001b[39m\u001b[38;5;124m'\u001b[39m)\n\u001b[0;32m      4\u001b[0m \u001b[38;5;28;01mimport\u001b[39;00m \u001b[38;5;21;01mlogging\u001b[39;00m\n\u001b[1;32m----> 5\u001b[0m \u001b[38;5;28;01mimport\u001b[39;00m \u001b[38;5;21;01msloth\u001b[39;00m\n\u001b[0;32m      7\u001b[0m logging\u001b[38;5;241m.\u001b[39mbasicConfig()\n\u001b[0;32m      8\u001b[0m logger \u001b[38;5;241m=\u001b[39m logging\u001b[38;5;241m.\u001b[39mgetLogger(\u001b[38;5;124m'\u001b[39m\u001b[38;5;124msloth\u001b[39m\u001b[38;5;124m'\u001b[39m)\n",
      "\u001b[1;31mModuleNotFoundError\u001b[0m: No module named 'sloth'"
     ]
    }
   ],
   "source": [
    "import numpy as np\n",
    "import sys\n",
    "sys.path.append('C:/Users/dsoellheim/PycharmProjects/')\n",
    "import logging\n",
    "import sloth\n",
    "\n",
    "logging.basicConfig()\n",
    "logger = logging.getLogger('sloth')\n",
    "logger.setLevel(level=logging.DEBUG)\n",
    "\n",
    "%matplotlib inline\n",
    "%load_ext autoreload\n",
    "%autoreload 2"
   ]
  },
  {
   "cell_type": "markdown",
   "id": "fa3d6d49",
   "metadata": {},
   "source": [
    "## Simple validation task"
   ]
  },
  {
   "cell_type": "code",
   "execution_count": 2,
   "id": "9cf98dba",
   "metadata": {
    "ExecuteTime": {
     "end_time": "2023-07-14T08:50:20.812026Z",
     "start_time": "2023-07-14T08:50:20.667914Z"
    },
    "execution": {
     "iopub.execute_input": "2024-04-24T09:41:45.550220Z",
     "iopub.status.busy": "2024-04-24T09:41:45.550220Z",
     "iopub.status.idle": "2024-04-24T09:41:45.571370Z",
     "shell.execute_reply": "2024-04-24T09:41:45.570298Z"
    }
   },
   "outputs": [
    {
     "ename": "NameError",
     "evalue": "name 'sloth' is not defined",
     "output_type": "error",
     "traceback": [
      "\u001b[1;31m---------------------------------------------------------------------------\u001b[0m",
      "\u001b[1;31mNameError\u001b[0m                                 Traceback (most recent call last)",
      "Cell \u001b[1;32mIn[2], line 2\u001b[0m\n\u001b[0;32m      1\u001b[0m \u001b[38;5;66;03m# get a sample validation task from a synthetic credit default model\u001b[39;00m\n\u001b[1;32m----> 2\u001b[0m validation_task \u001b[38;5;241m=\u001b[39m sloth\u001b[38;5;241m.\u001b[39mdatasets\u001b[38;5;241m.\u001b[39mtest_sets\u001b[38;5;241m.\u001b[39msimple_regression_ordinal_discrete_ohe(n_samples\u001b[38;5;241m=\u001b[39m\u001b[38;5;241m1_000\u001b[39m, x\u001b[38;5;241m=\u001b[39m\u001b[38;5;241m0\u001b[39m, f\u001b[38;5;241m=\u001b[39m\u001b[38;5;241m0\u001b[39m)\n\u001b[0;32m      3\u001b[0m cohort_shap_values \u001b[38;5;241m=\u001b[39m sloth\u001b[38;5;241m.\u001b[39mexplainers\u001b[38;5;241m.\u001b[39mlocal_explainers\u001b[38;5;241m.\u001b[39mCohortShapleyValues(validation_task, similarity_ratio\u001b[38;5;241m=\u001b[39m\u001b[38;5;241m1.0\u001b[39m)\n",
      "\u001b[1;31mNameError\u001b[0m: name 'sloth' is not defined"
     ]
    }
   ],
   "source": [
    "# get a sample validation task from a synthetic credit default model\n",
    "validation_task = sloth.datasets.test_sets.simple_regression_ordinal_discrete_ohe(n_samples=1_000, x=0, f=0)\n",
    "cohort_shap_values = sloth.explainers.local_explainers.CohortShapleyValues(validation_task, similarity_ratio=1.0)"
   ]
  },
  {
   "cell_type": "code",
   "execution_count": 3,
   "id": "ff244b73",
   "metadata": {
    "ExecuteTime": {
     "end_time": "2023-07-14T08:50:28.061615Z",
     "start_time": "2023-07-14T08:50:28.032308Z"
    },
    "execution": {
     "iopub.execute_input": "2024-04-24T09:41:45.575995Z",
     "iopub.status.busy": "2024-04-24T09:41:45.575995Z",
     "iopub.status.idle": "2024-04-24T09:41:45.597581Z",
     "shell.execute_reply": "2024-04-24T09:41:45.596565Z"
    }
   },
   "outputs": [
    {
     "ename": "NameError",
     "evalue": "name 'cohort_shap_values' is not defined",
     "output_type": "error",
     "traceback": [
      "\u001b[1;31m---------------------------------------------------------------------------\u001b[0m",
      "\u001b[1;31mNameError\u001b[0m                                 Traceback (most recent call last)",
      "Cell \u001b[1;32mIn[3], line 1\u001b[0m\n\u001b[1;32m----> 1\u001b[0m cs \u001b[38;5;241m=\u001b[39m cohort_shap_values\u001b[38;5;241m.\u001b[39mexplain(validation_task\u001b[38;5;241m.\u001b[39mdata[\u001b[38;5;241m0\u001b[39m,:])\n",
      "\u001b[1;31mNameError\u001b[0m: name 'cohort_shap_values' is not defined"
     ]
    }
   ],
   "source": [
    "cs = cohort_shap_values.explain(validation_task.data[0,:])"
   ]
  },
  {
   "cell_type": "code",
   "execution_count": 4,
   "id": "8af0de54",
   "metadata": {
    "ExecuteTime": {
     "end_time": "2023-07-14T07:34:40.216547Z",
     "start_time": "2023-07-14T07:34:40.180525Z"
    },
    "execution": {
     "iopub.execute_input": "2024-04-24T09:41:45.602577Z",
     "iopub.status.busy": "2024-04-24T09:41:45.601593Z",
     "iopub.status.idle": "2024-04-24T09:41:45.622467Z",
     "shell.execute_reply": "2024-04-24T09:41:45.621456Z"
    }
   },
   "outputs": [
    {
     "ename": "NameError",
     "evalue": "name 'cs' is not defined",
     "output_type": "error",
     "traceback": [
      "\u001b[1;31m---------------------------------------------------------------------------\u001b[0m",
      "\u001b[1;31mNameError\u001b[0m                                 Traceback (most recent call last)",
      "Cell \u001b[1;32mIn[4], line 1\u001b[0m\n\u001b[1;32m----> 1\u001b[0m cs\u001b[38;5;241m.\u001b[39mshap_values\n",
      "\u001b[1;31mNameError\u001b[0m: name 'cs' is not defined"
     ]
    }
   ],
   "source": [
    "cs.shap_values"
   ]
  },
  {
   "cell_type": "markdown",
   "id": "f43ad39e",
   "metadata": {},
   "source": [
    "## Biased Dataset "
   ]
  },
  {
   "cell_type": "markdown",
   "id": "e7381206",
   "metadata": {},
   "source": [
    "The feature corr_feat, correlated with feature_1 in the data set, that is not included in the model, is incorrectly shown in the beeswarm plot to have an impact on the SHAP values."
   ]
  },
  {
   "cell_type": "code",
   "execution_count": 5,
   "id": "324ef0af",
   "metadata": {
    "execution": {
     "iopub.execute_input": "2024-04-24T09:41:45.626054Z",
     "iopub.status.busy": "2024-04-24T09:41:45.626054Z",
     "iopub.status.idle": "2024-04-24T09:41:45.644171Z",
     "shell.execute_reply": "2024-04-24T09:41:45.644171Z"
    }
   },
   "outputs": [
    {
     "ename": "ModuleNotFoundError",
     "evalue": "No module named 'sloth'",
     "output_type": "error",
     "traceback": [
      "\u001b[1;31m---------------------------------------------------------------------------\u001b[0m",
      "\u001b[1;31mModuleNotFoundError\u001b[0m                       Traceback (most recent call last)",
      "Cell \u001b[1;32mIn[5], line 1\u001b[0m\n\u001b[1;32m----> 1\u001b[0m \u001b[38;5;28;01mimport\u001b[39;00m \u001b[38;5;21;01msloth\u001b[39;00m\u001b[38;5;21;01m.\u001b[39;00m\u001b[38;5;21;01mdatasets\u001b[39;00m\u001b[38;5;21;01m.\u001b[39;00m\u001b[38;5;21;01mcredit_default2\u001b[39;00m \u001b[38;5;28;01mas\u001b[39;00m \u001b[38;5;21;01mbiased_dataset\u001b[39;00m\n",
      "\u001b[1;31mModuleNotFoundError\u001b[0m: No module named 'sloth'"
     ]
    }
   ],
   "source": [
    "import sloth.datasets.credit_default2 as biased_dataset"
   ]
  },
  {
   "cell_type": "code",
   "execution_count": 6,
   "id": "4ce50ff1",
   "metadata": {
    "execution": {
     "iopub.execute_input": "2024-04-24T09:41:45.648726Z",
     "iopub.status.busy": "2024-04-24T09:41:45.648726Z",
     "iopub.status.idle": "2024-04-24T09:41:45.668322Z",
     "shell.execute_reply": "2024-04-24T09:41:45.666308Z"
    }
   },
   "outputs": [
    {
     "ename": "NameError",
     "evalue": "name 'biased_dataset' is not defined",
     "output_type": "error",
     "traceback": [
      "\u001b[1;31m---------------------------------------------------------------------------\u001b[0m",
      "\u001b[1;31mNameError\u001b[0m                                 Traceback (most recent call last)",
      "Cell \u001b[1;32mIn[6], line 1\u001b[0m\n\u001b[1;32m----> 1\u001b[0m validation_task \u001b[38;5;241m=\u001b[39m biased_dataset\u001b[38;5;241m.\u001b[39mget()\n\u001b[0;32m      2\u001b[0m cohort_shap_values \u001b[38;5;241m=\u001b[39m sloth\u001b[38;5;241m.\u001b[39mexplainers\u001b[38;5;241m.\u001b[39mlocal_explainers\u001b[38;5;241m.\u001b[39mCohortShapleyValues(validation_task, bool_error\u001b[38;5;241m=\u001b[39m\u001b[38;5;28;01mFalse\u001b[39;00m)\n",
      "\u001b[1;31mNameError\u001b[0m: name 'biased_dataset' is not defined"
     ]
    }
   ],
   "source": [
    "validation_task = biased_dataset.get()\n",
    "cohort_shap_values = sloth.explainers.local_explainers.CohortShapleyValues(validation_task, bool_error=False)"
   ]
  },
  {
   "cell_type": "code",
   "execution_count": 7,
   "id": "67281abb",
   "metadata": {
    "execution": {
     "iopub.execute_input": "2024-04-24T09:41:45.673320Z",
     "iopub.status.busy": "2024-04-24T09:41:45.672322Z",
     "iopub.status.idle": "2024-04-24T09:41:45.696955Z",
     "shell.execute_reply": "2024-04-24T09:41:45.695943Z"
    }
   },
   "outputs": [
    {
     "ename": "NameError",
     "evalue": "name 'cohort_shap_values' is not defined",
     "output_type": "error",
     "traceback": [
      "\u001b[1;31m---------------------------------------------------------------------------\u001b[0m",
      "\u001b[1;31mNameError\u001b[0m                                 Traceback (most recent call last)",
      "Cell \u001b[1;32mIn[7], line 1\u001b[0m\n\u001b[1;32m----> 1\u001b[0m cs \u001b[38;5;241m=\u001b[39m cohort_shap_values\u001b[38;5;241m.\u001b[39mexplain(validation_task\u001b[38;5;241m.\u001b[39mdata[\u001b[38;5;241m0\u001b[39m:\u001b[38;5;241m50\u001b[39m,:])\n",
      "\u001b[1;31mNameError\u001b[0m: name 'cohort_shap_values' is not defined"
     ]
    }
   ],
   "source": [
    "cs = cohort_shap_values.explain(validation_task.data[0:50,:]) "
   ]
  },
  {
   "cell_type": "code",
   "execution_count": 8,
   "id": "74aa2053",
   "metadata": {
    "execution": {
     "iopub.execute_input": "2024-04-24T09:41:45.702055Z",
     "iopub.status.busy": "2024-04-24T09:41:45.701052Z",
     "iopub.status.idle": "2024-04-24T09:41:45.720765Z",
     "shell.execute_reply": "2024-04-24T09:41:45.719748Z"
    }
   },
   "outputs": [
    {
     "ename": "NameError",
     "evalue": "name 'cs' is not defined",
     "output_type": "error",
     "traceback": [
      "\u001b[1;31m---------------------------------------------------------------------------\u001b[0m",
      "\u001b[1;31mNameError\u001b[0m                                 Traceback (most recent call last)",
      "Cell \u001b[1;32mIn[8], line 1\u001b[0m\n\u001b[1;32m----> 1\u001b[0m cs\u001b[38;5;241m.\u001b[39mplot_beeswarm()\n",
      "\u001b[1;31mNameError\u001b[0m: name 'cs' is not defined"
     ]
    }
   ],
   "source": [
    "cs.plot_beeswarm()"
   ]
  },
  {
   "cell_type": "code",
   "execution_count": 9,
   "id": "0c9c72b0",
   "metadata": {
    "execution": {
     "iopub.execute_input": "2024-04-24T09:41:45.725927Z",
     "iopub.status.busy": "2024-04-24T09:41:45.725305Z",
     "iopub.status.idle": "2024-04-24T09:41:45.747633Z",
     "shell.execute_reply": "2024-04-24T09:41:45.746619Z"
    }
   },
   "outputs": [
    {
     "ename": "NameError",
     "evalue": "name 'cs' is not defined",
     "output_type": "error",
     "traceback": [
      "\u001b[1;31m---------------------------------------------------------------------------\u001b[0m",
      "\u001b[1;31mNameError\u001b[0m                                 Traceback (most recent call last)",
      "Cell \u001b[1;32mIn[9], line 1\u001b[0m\n\u001b[1;32m----> 1\u001b[0m cs\u001b[38;5;241m.\u001b[39mplot_bar(row\u001b[38;5;241m=\u001b[39m\u001b[38;5;241m0\u001b[39m)\n",
      "\u001b[1;31mNameError\u001b[0m: name 'cs' is not defined"
     ]
    }
   ],
   "source": [
    "cs.plot_bar(row=0)"
   ]
  },
  {
   "cell_type": "code",
   "execution_count": 10,
   "id": "398ff5b7",
   "metadata": {
    "execution": {
     "iopub.execute_input": "2024-04-24T09:41:45.753646Z",
     "iopub.status.busy": "2024-04-24T09:41:45.752632Z",
     "iopub.status.idle": "2024-04-24T09:41:45.778047Z",
     "shell.execute_reply": "2024-04-24T09:41:45.777038Z"
    }
   },
   "outputs": [
    {
     "ename": "NameError",
     "evalue": "name 'validation_task' is not defined",
     "output_type": "error",
     "traceback": [
      "\u001b[1;31m---------------------------------------------------------------------------\u001b[0m",
      "\u001b[1;31mNameError\u001b[0m                                 Traceback (most recent call last)",
      "Cell \u001b[1;32mIn[10], line 3\u001b[0m\n\u001b[0;32m      1\u001b[0m \u001b[38;5;66;03m#explanation = ShapExplanation(cs.shapley_values)\u001b[39;00m\n\u001b[0;32m      2\u001b[0m \u001b[38;5;66;03m#max_id = np.argmax(validation_task.y_pred)\u001b[39;00m\n\u001b[1;32m----> 3\u001b[0m max_ids \u001b[38;5;241m=\u001b[39m (\u001b[38;5;241m-\u001b[39mvalidation_task\u001b[38;5;241m.\u001b[39my_pred)\u001b[38;5;241m.\u001b[39margsort()[:\u001b[38;5;241m3\u001b[39m]\n\u001b[0;32m      4\u001b[0m \u001b[38;5;28;01mfor\u001b[39;00m i \u001b[38;5;129;01min\u001b[39;00m \u001b[38;5;28mrange\u001b[39m(\u001b[38;5;28mlen\u001b[39m(max_ids)):\n\u001b[0;32m      5\u001b[0m     dev \u001b[38;5;241m=\u001b[39m \u001b[38;5;241m10\u001b[39m\n",
      "\u001b[1;31mNameError\u001b[0m: name 'validation_task' is not defined"
     ]
    }
   ],
   "source": [
    "#explanation = ShapExplanation(cs.shapley_values)\n",
    "#max_id = np.argmax(validation_task.y_pred)\n",
    "max_ids = (-validation_task.y_pred).argsort()[:3]\n",
    "for i in range(len(max_ids)):\n",
    "    dev = 10\n",
    "    cs = cohort_shap_values.explain(validation_task.data[max_ids[i]-dev:max_ids[i]+dev,:]) #:-1\n",
    "    cs.plot_bar(row=dev)"
   ]
  }
 ],
 "metadata": {
  "hide_input": false,
  "kernelspec": {
   "display_name": "Python 3 (ipykernel)",
   "language": "python",
   "name": "python3"
  },
  "language_info": {
   "codemirror_mode": {
    "name": "ipython",
    "version": 3
   },
   "file_extension": ".py",
   "mimetype": "text/x-python",
   "name": "python",
   "nbconvert_exporter": "python",
   "pygments_lexer": "ipython3",
   "version": "3.12.3"
  },
  "toc": {
   "base_numbering": 1,
   "nav_menu": {},
   "number_sections": true,
   "sideBar": true,
   "skip_h1_title": false,
   "title_cell": "Table of Contents",
   "title_sidebar": "Contents",
   "toc_cell": false,
   "toc_position": {},
   "toc_section_display": true,
   "toc_window_display": false
  }
 },
 "nbformat": 4,
 "nbformat_minor": 5
}
