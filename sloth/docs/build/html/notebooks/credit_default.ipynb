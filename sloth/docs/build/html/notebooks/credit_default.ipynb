{
 "cells": [
  {
   "cell_type": "markdown",
   "id": "81f9760a",
   "metadata": {},
   "source": [
    "# Credit Default"
   ]
  },
  {
   "cell_type": "markdown",
   "id": "f293e52d",
   "metadata": {},
   "source": [
    "## Overview\n",
    "Sloth provides a simple collection of models and data for the estimation of credit default probabilities described in the following table.\n",
    "\n",
    "ID | # Ordinal  <br> features | # Discrete Ordinal <br> Features | # Categorical <br> Features|# different <br> models | Comment\n",
    "----------|----------------------|---------------------------------|------------------------------|------------------------|------\n",
    " 0        | 4| 0| 0|2| Similar to 1 but features are uncorrelated\n",
    " 1 | 4| 0|0 |2| Similar to 0 but features are highly correlated\n",
    " 2 |4|0|1|1| Similar to 0 but with additional categorical value zip code\n",
    " 3 |4|0|1|1| Similar to 1 but with additional categorical value zip code\n",
    " 4 |4|0|0|2| Similar to 0 but with exchanged beta_params['income'] and beta_params['age']\n",
    " 5 |4|0|0|2| Similar to 1 but with exchanged beta_params['income'] and beta_params['age'] (see 4)\n",
    " 6 |4|0|0|2| Similar to 0 but with different beta_params['savings']\n",
    " 7 |4|0|0|2| Similar to 1 but with different beta_params['savings'] (as in 6)"
   ]
  },
  {
   "cell_type": "markdown",
   "id": "f0569a27",
   "metadata": {},
   "source": [
    "## Usage"
   ]
  },
  {
   "cell_type": "code",
   "execution_count": 1,
   "id": "97362e1b",
   "metadata": {
    "execution": {
     "iopub.execute_input": "2024-04-24T09:41:52.912458Z",
     "iopub.status.busy": "2024-04-24T09:41:52.912458Z",
     "iopub.status.idle": "2024-04-24T09:42:18.602332Z",
     "shell.execute_reply": "2024-04-24T09:42:18.601313Z"
    }
   },
   "outputs": [
    {
     "name": "stderr",
     "output_type": "stream",
     "text": [
      "IProgress not found. Please update jupyter and ipywidgets. See https://ipywidgets.readthedocs.io/en/stable/user_install.html\n"
     ]
    },
    {
     "name": "stderr",
     "output_type": "stream",
     "text": [
      "Python package cohortshapley not installed, cannot compute cohort shapley values without this package.\n",
      "invalid escape sequence '\\s'\n"
     ]
    },
    {
     "name": "stderr",
     "output_type": "stream",
     "text": [
      "invalid escape sequence '\\{'\n"
     ]
    },
    {
     "name": "stderr",
     "output_type": "stream",
     "text": [
      "invalid escape sequence '\\i'\n",
      "Python package cohortshapley not installed,cannot compute cohort shapley values without this package.\n"
     ]
    }
   ],
   "source": [
    "import config\n",
    "import sloth.datasets.credit_default as credit_default\n",
    "import seaborn as sn\n",
    "\n",
    "%load_ext autoreload\n",
    "%autoreload 2"
   ]
  },
  {
   "cell_type": "code",
   "execution_count": 2,
   "id": "f4b5242e",
   "metadata": {
    "execution": {
     "iopub.execute_input": "2024-04-24T09:42:18.608802Z",
     "iopub.status.busy": "2024-04-24T09:42:18.607788Z",
     "iopub.status.idle": "2024-04-24T09:42:22.560670Z",
     "shell.execute_reply": "2024-04-24T09:42:22.559657Z"
    }
   },
   "outputs": [
    {
     "ename": "AttributeError",
     "evalue": "type object 'CreditDefaultData2' has no attribute 'sample'",
     "output_type": "error",
     "traceback": [
      "\u001b[1;31m---------------------------------------------------------------------------\u001b[0m",
      "\u001b[1;31mAttributeError\u001b[0m                            Traceback (most recent call last)",
      "Cell \u001b[1;32mIn[2], line 2\u001b[0m\n\u001b[0;32m      1\u001b[0m \u001b[38;5;66;03m# we now get the validation task by using the \"get\" method, specifying the data and model id.\u001b[39;00m\n\u001b[1;32m----> 2\u001b[0m validation_task \u001b[38;5;241m=\u001b[39m credit_default\u001b[38;5;241m.\u001b[39mget(dataset\u001b[38;5;241m=\u001b[39m\u001b[38;5;241m0\u001b[39m,model\u001b[38;5;241m=\u001b[39m\u001b[38;5;241m0\u001b[39m)\n\u001b[0;32m      3\u001b[0m sn\u001b[38;5;241m.\u001b[39mpairplot(validation_task\u001b[38;5;241m.\u001b[39mx_df())\n",
      "File \u001b[1;32m~\\Documents\\GitHub\\RiVaPy_development\\sloth\\sloth\\docs\\source\\notebooks\\../../..\\sloth\\datasets\\credit_default.py:140\u001b[0m, in \u001b[0;36mget\u001b[1;34m(dataset, model)\u001b[0m\n\u001b[0;32m    138\u001b[0m     name \u001b[38;5;241m+\u001b[39m\u001b[38;5;241m=\u001b[39m \u001b[38;5;124m'\u001b[39m\u001b[38;5;124m_0\u001b[39m\u001b[38;5;124m'\u001b[39m\n\u001b[0;32m    139\u001b[0m     description \u001b[38;5;241m=\u001b[39m description \u001b[38;5;241m+\u001b[39m \u001b[38;5;124m'\u001b[39m\u001b[38;5;124m The data generating model (logistic function) equals the model used for prediction.\u001b[39m\u001b[38;5;124m'\u001b[39m\n\u001b[1;32m--> 140\u001b[0m     \u001b[38;5;28;01mreturn\u001b[39;00m generating_function(\u001b[38;5;241m10\u001b[39m, \u001b[38;5;241m1000\u001b[39m, \u001b[38;5;241m42\u001b[39m, cov, description\u001b[38;5;241m=\u001b[39mdescription, name\u001b[38;5;241m=\u001b[39mname, beta_params\u001b[38;5;241m=\u001b[39mbeta_params)\n\u001b[0;32m    141\u001b[0m name \u001b[38;5;241m+\u001b[39m\u001b[38;5;241m=\u001b[39m \u001b[38;5;124m'\u001b[39m\u001b[38;5;124m_1\u001b[39m\u001b[38;5;124m'\u001b[39m\n\u001b[0;32m    142\u001b[0m description \u001b[38;5;241m=\u001b[39m description \u001b[38;5;241m+\u001b[39m \u001b[38;5;124m'\u001b[39m\u001b[38;5;124m The data generating model (logistic function) equals the model used for prediction.\u001b[39m\u001b[38;5;124m'\u001b[39m\n",
      "File \u001b[1;32m~\\Documents\\GitHub\\RiVaPy_development\\sloth\\sloth\\docs\\source\\notebooks\\../../..\\sloth\\datasets\\credit_default.py:41\u001b[0m, in \u001b[0;36m_get_validation_task\u001b[1;34m(n_years, n_data_per_year, seed, cov, description, name, predict, beta_params)\u001b[0m\n\u001b[0;32m     38\u001b[0m input_features\u001b[38;5;241m.\u001b[39mappend(OrdinalFeatureDescription(\u001b[38;5;124m'\u001b[39m\u001b[38;5;124mcredit_debt_ratio\u001b[39m\u001b[38;5;124m'\u001b[39m, column\u001b[38;5;241m=\u001b[39m\u001b[38;5;241m3\u001b[39m))\n\u001b[0;32m     40\u001b[0m output_features \u001b[38;5;241m=\u001b[39m [OrdinalFeatureDescription(\u001b[38;5;124m'\u001b[39m\u001b[38;5;124mdefault probability\u001b[39m\u001b[38;5;124m'\u001b[39m,  column\u001b[38;5;241m=\u001b[39m\u001b[38;5;241m0\u001b[39m)]\n\u001b[1;32m---> 41\u001b[0m x \u001b[38;5;241m=\u001b[39m CreditDefaultData2\u001b[38;5;241m.\u001b[39msample(n_years, n_data_per_year, seed, cov, include_economic_factor\u001b[38;5;241m=\u001b[39m\u001b[38;5;28;01mFalse\u001b[39;00m, beta_params\u001b[38;5;241m=\u001b[39mbeta_params)\u001b[38;5;241m.\u001b[39mvalues[:,:\u001b[38;5;241m4\u001b[39m]\n\u001b[0;32m     42\u001b[0m \u001b[38;5;28;01mif\u001b[39;00m predict \u001b[38;5;129;01mis\u001b[39;00m \u001b[38;5;28;01mNone\u001b[39;00m:\n\u001b[0;32m     43\u001b[0m     predict \u001b[38;5;241m=\u001b[39m CreditDefaultData2\u001b[38;5;241m.\u001b[39m_predict\n",
      "\u001b[1;31mAttributeError\u001b[0m: type object 'CreditDefaultData2' has no attribute 'sample'"
     ]
    }
   ],
   "source": [
    "# we now get the validation task by using the \"get\" method, specifying the data and model id.\n",
    "validation_task = credit_default.get(dataset=0,model=0)\n",
    "sn.pairplot(validation_task.x_df());"
   ]
  },
  {
   "cell_type": "code",
   "execution_count": 3,
   "id": "7f774119",
   "metadata": {
    "execution": {
     "iopub.execute_input": "2024-04-24T09:42:22.564993Z",
     "iopub.status.busy": "2024-04-24T09:42:22.564993Z",
     "iopub.status.idle": "2024-04-24T09:42:23.279037Z",
     "shell.execute_reply": "2024-04-24T09:42:23.277592Z"
    }
   },
   "outputs": [
    {
     "ename": "AttributeError",
     "evalue": "type object 'CreditDefaultData2' has no attribute 'sample'",
     "output_type": "error",
     "traceback": [
      "\u001b[1;31m---------------------------------------------------------------------------\u001b[0m",
      "\u001b[1;31mAttributeError\u001b[0m                            Traceback (most recent call last)",
      "Cell \u001b[1;32mIn[3], line 1\u001b[0m\n\u001b[1;32m----> 1\u001b[0m validation_task_4 \u001b[38;5;241m=\u001b[39m credit_default\u001b[38;5;241m.\u001b[39mget(dataset\u001b[38;5;241m=\u001b[39m\u001b[38;5;241m4\u001b[39m,model\u001b[38;5;241m=\u001b[39m\u001b[38;5;241m0\u001b[39m)\n\u001b[0;32m      2\u001b[0m sn\u001b[38;5;241m.\u001b[39mpairplot(validation_task_4\u001b[38;5;241m.\u001b[39mx_df())\n",
      "File \u001b[1;32m~\\Documents\\GitHub\\RiVaPy_development\\sloth\\sloth\\docs\\source\\notebooks\\../../..\\sloth\\datasets\\credit_default.py:140\u001b[0m, in \u001b[0;36mget\u001b[1;34m(dataset, model)\u001b[0m\n\u001b[0;32m    138\u001b[0m     name \u001b[38;5;241m+\u001b[39m\u001b[38;5;241m=\u001b[39m \u001b[38;5;124m'\u001b[39m\u001b[38;5;124m_0\u001b[39m\u001b[38;5;124m'\u001b[39m\n\u001b[0;32m    139\u001b[0m     description \u001b[38;5;241m=\u001b[39m description \u001b[38;5;241m+\u001b[39m \u001b[38;5;124m'\u001b[39m\u001b[38;5;124m The data generating model (logistic function) equals the model used for prediction.\u001b[39m\u001b[38;5;124m'\u001b[39m\n\u001b[1;32m--> 140\u001b[0m     \u001b[38;5;28;01mreturn\u001b[39;00m generating_function(\u001b[38;5;241m10\u001b[39m, \u001b[38;5;241m1000\u001b[39m, \u001b[38;5;241m42\u001b[39m, cov, description\u001b[38;5;241m=\u001b[39mdescription, name\u001b[38;5;241m=\u001b[39mname, beta_params\u001b[38;5;241m=\u001b[39mbeta_params)\n\u001b[0;32m    141\u001b[0m name \u001b[38;5;241m+\u001b[39m\u001b[38;5;241m=\u001b[39m \u001b[38;5;124m'\u001b[39m\u001b[38;5;124m_1\u001b[39m\u001b[38;5;124m'\u001b[39m\n\u001b[0;32m    142\u001b[0m description \u001b[38;5;241m=\u001b[39m description \u001b[38;5;241m+\u001b[39m \u001b[38;5;124m'\u001b[39m\u001b[38;5;124m The data generating model (logistic function) equals the model used for prediction.\u001b[39m\u001b[38;5;124m'\u001b[39m\n",
      "File \u001b[1;32m~\\Documents\\GitHub\\RiVaPy_development\\sloth\\sloth\\docs\\source\\notebooks\\../../..\\sloth\\datasets\\credit_default.py:41\u001b[0m, in \u001b[0;36m_get_validation_task\u001b[1;34m(n_years, n_data_per_year, seed, cov, description, name, predict, beta_params)\u001b[0m\n\u001b[0;32m     38\u001b[0m input_features\u001b[38;5;241m.\u001b[39mappend(OrdinalFeatureDescription(\u001b[38;5;124m'\u001b[39m\u001b[38;5;124mcredit_debt_ratio\u001b[39m\u001b[38;5;124m'\u001b[39m, column\u001b[38;5;241m=\u001b[39m\u001b[38;5;241m3\u001b[39m))\n\u001b[0;32m     40\u001b[0m output_features \u001b[38;5;241m=\u001b[39m [OrdinalFeatureDescription(\u001b[38;5;124m'\u001b[39m\u001b[38;5;124mdefault probability\u001b[39m\u001b[38;5;124m'\u001b[39m,  column\u001b[38;5;241m=\u001b[39m\u001b[38;5;241m0\u001b[39m)]\n\u001b[1;32m---> 41\u001b[0m x \u001b[38;5;241m=\u001b[39m CreditDefaultData2\u001b[38;5;241m.\u001b[39msample(n_years, n_data_per_year, seed, cov, include_economic_factor\u001b[38;5;241m=\u001b[39m\u001b[38;5;28;01mFalse\u001b[39;00m, beta_params\u001b[38;5;241m=\u001b[39mbeta_params)\u001b[38;5;241m.\u001b[39mvalues[:,:\u001b[38;5;241m4\u001b[39m]\n\u001b[0;32m     42\u001b[0m \u001b[38;5;28;01mif\u001b[39;00m predict \u001b[38;5;129;01mis\u001b[39;00m \u001b[38;5;28;01mNone\u001b[39;00m:\n\u001b[0;32m     43\u001b[0m     predict \u001b[38;5;241m=\u001b[39m CreditDefaultData2\u001b[38;5;241m.\u001b[39m_predict\n",
      "\u001b[1;31mAttributeError\u001b[0m: type object 'CreditDefaultData2' has no attribute 'sample'"
     ]
    }
   ],
   "source": [
    "validation_task_4 = credit_default.get(dataset=4,model=0)\n",
    "sn.pairplot(validation_task_4.x_df());"
   ]
  },
  {
   "cell_type": "code",
   "execution_count": 4,
   "id": "5a40c187",
   "metadata": {
    "execution": {
     "iopub.execute_input": "2024-04-24T09:42:23.285768Z",
     "iopub.status.busy": "2024-04-24T09:42:23.284251Z",
     "iopub.status.idle": "2024-04-24T09:42:23.980716Z",
     "shell.execute_reply": "2024-04-24T09:42:23.979263Z"
    }
   },
   "outputs": [
    {
     "ename": "AttributeError",
     "evalue": "type object 'CreditDefaultData2' has no attribute 'sample'",
     "output_type": "error",
     "traceback": [
      "\u001b[1;31m---------------------------------------------------------------------------\u001b[0m",
      "\u001b[1;31mAttributeError\u001b[0m                            Traceback (most recent call last)",
      "Cell \u001b[1;32mIn[4], line 1\u001b[0m\n\u001b[1;32m----> 1\u001b[0m validation_task_6 \u001b[38;5;241m=\u001b[39m credit_default\u001b[38;5;241m.\u001b[39mget(dataset\u001b[38;5;241m=\u001b[39m\u001b[38;5;241m6\u001b[39m,model\u001b[38;5;241m=\u001b[39m\u001b[38;5;241m0\u001b[39m)\n\u001b[0;32m      2\u001b[0m sn\u001b[38;5;241m.\u001b[39mpairplot(validation_task_6\u001b[38;5;241m.\u001b[39mx_df())\n",
      "File \u001b[1;32m~\\Documents\\GitHub\\RiVaPy_development\\sloth\\sloth\\docs\\source\\notebooks\\../../..\\sloth\\datasets\\credit_default.py:140\u001b[0m, in \u001b[0;36mget\u001b[1;34m(dataset, model)\u001b[0m\n\u001b[0;32m    138\u001b[0m     name \u001b[38;5;241m+\u001b[39m\u001b[38;5;241m=\u001b[39m \u001b[38;5;124m'\u001b[39m\u001b[38;5;124m_0\u001b[39m\u001b[38;5;124m'\u001b[39m\n\u001b[0;32m    139\u001b[0m     description \u001b[38;5;241m=\u001b[39m description \u001b[38;5;241m+\u001b[39m \u001b[38;5;124m'\u001b[39m\u001b[38;5;124m The data generating model (logistic function) equals the model used for prediction.\u001b[39m\u001b[38;5;124m'\u001b[39m\n\u001b[1;32m--> 140\u001b[0m     \u001b[38;5;28;01mreturn\u001b[39;00m generating_function(\u001b[38;5;241m10\u001b[39m, \u001b[38;5;241m1000\u001b[39m, \u001b[38;5;241m42\u001b[39m, cov, description\u001b[38;5;241m=\u001b[39mdescription, name\u001b[38;5;241m=\u001b[39mname, beta_params\u001b[38;5;241m=\u001b[39mbeta_params)\n\u001b[0;32m    141\u001b[0m name \u001b[38;5;241m+\u001b[39m\u001b[38;5;241m=\u001b[39m \u001b[38;5;124m'\u001b[39m\u001b[38;5;124m_1\u001b[39m\u001b[38;5;124m'\u001b[39m\n\u001b[0;32m    142\u001b[0m description \u001b[38;5;241m=\u001b[39m description \u001b[38;5;241m+\u001b[39m \u001b[38;5;124m'\u001b[39m\u001b[38;5;124m The data generating model (logistic function) equals the model used for prediction.\u001b[39m\u001b[38;5;124m'\u001b[39m\n",
      "File \u001b[1;32m~\\Documents\\GitHub\\RiVaPy_development\\sloth\\sloth\\docs\\source\\notebooks\\../../..\\sloth\\datasets\\credit_default.py:41\u001b[0m, in \u001b[0;36m_get_validation_task\u001b[1;34m(n_years, n_data_per_year, seed, cov, description, name, predict, beta_params)\u001b[0m\n\u001b[0;32m     38\u001b[0m input_features\u001b[38;5;241m.\u001b[39mappend(OrdinalFeatureDescription(\u001b[38;5;124m'\u001b[39m\u001b[38;5;124mcredit_debt_ratio\u001b[39m\u001b[38;5;124m'\u001b[39m, column\u001b[38;5;241m=\u001b[39m\u001b[38;5;241m3\u001b[39m))\n\u001b[0;32m     40\u001b[0m output_features \u001b[38;5;241m=\u001b[39m [OrdinalFeatureDescription(\u001b[38;5;124m'\u001b[39m\u001b[38;5;124mdefault probability\u001b[39m\u001b[38;5;124m'\u001b[39m,  column\u001b[38;5;241m=\u001b[39m\u001b[38;5;241m0\u001b[39m)]\n\u001b[1;32m---> 41\u001b[0m x \u001b[38;5;241m=\u001b[39m CreditDefaultData2\u001b[38;5;241m.\u001b[39msample(n_years, n_data_per_year, seed, cov, include_economic_factor\u001b[38;5;241m=\u001b[39m\u001b[38;5;28;01mFalse\u001b[39;00m, beta_params\u001b[38;5;241m=\u001b[39mbeta_params)\u001b[38;5;241m.\u001b[39mvalues[:,:\u001b[38;5;241m4\u001b[39m]\n\u001b[0;32m     42\u001b[0m \u001b[38;5;28;01mif\u001b[39;00m predict \u001b[38;5;129;01mis\u001b[39;00m \u001b[38;5;28;01mNone\u001b[39;00m:\n\u001b[0;32m     43\u001b[0m     predict \u001b[38;5;241m=\u001b[39m CreditDefaultData2\u001b[38;5;241m.\u001b[39m_predict\n",
      "\u001b[1;31mAttributeError\u001b[0m: type object 'CreditDefaultData2' has no attribute 'sample'"
     ]
    }
   ],
   "source": [
    "validation_task_6 = credit_default.get(dataset=6,model=0)\n",
    "sn.pairplot(validation_task_6.x_df());"
   ]
  }
 ],
 "metadata": {
  "hide_input": false,
  "kernelspec": {
   "display_name": "Python 3 (ipykernel)",
   "language": "python",
   "name": "python3"
  },
  "language_info": {
   "codemirror_mode": {
    "name": "ipython",
    "version": 3
   },
   "file_extension": ".py",
   "mimetype": "text/x-python",
   "name": "python",
   "nbconvert_exporter": "python",
   "pygments_lexer": "ipython3",
   "version": "3.12.3"
  },
  "toc": {
   "base_numbering": 1,
   "nav_menu": {},
   "number_sections": true,
   "sideBar": true,
   "skip_h1_title": false,
   "title_cell": "Table of Contents",
   "title_sidebar": "Contents",
   "toc_cell": false,
   "toc_position": {},
   "toc_section_display": true,
   "toc_window_display": false
  }
 },
 "nbformat": 4,
 "nbformat_minor": 5
}
