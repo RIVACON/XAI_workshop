{
 "cells": [
  {
   "cell_type": "markdown",
   "id": "81f9760a",
   "metadata": {},
   "source": [
    "# Credit Default"
   ]
  },
  {
   "cell_type": "markdown",
   "id": "f293e52d",
   "metadata": {},
   "source": [
    "## Overview\n",
    "Sloth provides a simple collection of models and data for the estimation of credit default probabilities described in the following table.\n",
    "\n",
    "ID | # Ordinal  <br> features | # Discrete Ordinal <br> Features | # Categorical <br> Features|# different <br> models | Comment\n",
    "----------|----------------------|---------------------------------|------------------------------|------------------------|------\n",
    " 0        | 4| 0| 0|2| Similar to 1 but features are uncorrelated\n",
    " 1 | 4| 0|0 |2| Similar to 0 but features are highly correlated\n",
    " 2 |4|0|1|1| Similar to 0 but with additional categorical value zip code\n",
    " 3 |4|0|1|1| Similar to 1 but with additional categorical value zip code\n",
    " 4 |4|0|0|2| Similar to 0 but with exchanged beta_params['income'] and beta_params['age']\n",
    " 5 |4|0|0|2| Similar to 1 but with exchanged beta_params['income'] and beta_params['age'] (see 4)\n",
    " 6 |4|0|0|2| Similar to 0 but with different beta_params['savings']\n",
    " 7 |4|0|0|2| Similar to 1 but with different beta_params['savings'] (as in 6)"
   ]
  },
  {
   "cell_type": "markdown",
   "id": "f0569a27",
   "metadata": {},
   "source": [
    "## Usage"
   ]
  },
  {
   "cell_type": "code",
   "execution_count": null,
   "id": "97362e1b",
   "metadata": {},
   "outputs": [],
   "source": [
    "import config\n",
    "import sloth.datasets.credit_default as credit_default\n",
    "import seaborn as sn\n",
    "\n",
    "%load_ext autoreload\n",
    "%autoreload 2"
   ]
  },
  {
   "cell_type": "code",
   "execution_count": null,
   "id": "f4b5242e",
   "metadata": {},
   "outputs": [],
   "source": [
    "# we now get the validation task by using the \"get\" method, specifying the data and model id.\n",
    "validation_task = credit_default.get(dataset=0,model=0)\n",
    "sn.pairplot(validation_task.x_df());"
   ]
  },
  {
   "cell_type": "code",
   "execution_count": null,
   "id": "7f774119",
   "metadata": {},
   "outputs": [],
   "source": [
    "validation_task_4 = credit_default.get(dataset=4,model=0)\n",
    "sn.pairplot(validation_task_4.x_df());"
   ]
  },
  {
   "cell_type": "code",
   "execution_count": null,
   "id": "5a40c187",
   "metadata": {},
   "outputs": [],
   "source": [
    "validation_task_6 = credit_default.get(dataset=6,model=0)\n",
    "sn.pairplot(validation_task_6.x_df());"
   ]
  }
 ],
 "metadata": {
  "hide_input": false,
  "kernelspec": {
   "display_name": "Python 3 (ipykernel)",
   "language": "python",
   "name": "python3"
  },
  "language_info": {
   "codemirror_mode": {
    "name": "ipython",
    "version": 3
   },
   "file_extension": ".py",
   "mimetype": "text/x-python",
   "name": "python",
   "nbconvert_exporter": "python",
   "pygments_lexer": "ipython3",
   "version": "3.9.7"
  },
  "toc": {
   "base_numbering": 1,
   "nav_menu": {},
   "number_sections": true,
   "sideBar": true,
   "skip_h1_title": false,
   "title_cell": "Table of Contents",
   "title_sidebar": "Contents",
   "toc_cell": false,
   "toc_position": {},
   "toc_section_display": true,
   "toc_window_display": false
  }
 },
 "nbformat": 4,
 "nbformat_minor": 5
}
