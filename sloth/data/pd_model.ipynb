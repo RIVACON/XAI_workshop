{
 "cells": [
  {
   "cell_type": "code",
   "execution_count": 1,
   "metadata": {
    "ExecuteTime": {
     "end_time": "2023-02-09T06:32:42.451019Z",
     "start_time": "2023-02-09T06:32:38.927738Z"
    }
   },
   "outputs": [],
   "source": [
    "import numpy as np\n",
    "import pandas as pd\n",
    "import matplotlib.pyplot as plt\n"
   ]
  },
  {
   "cell_type": "code",
   "execution_count": 48,
   "metadata": {
    "ExecuteTime": {
     "end_time": "2023-02-09T06:28:39.823490Z",
     "start_time": "2023-02-09T06:28:39.794647Z"
    }
   },
   "outputs": [],
   "source": [
    "# The features\n",
    "n_data = 10_000\n",
    "result = {}\n",
    "result['age'] = np.random.uniform(low=0.0, high=1.0, size=n_data)\n",
    "result['income'] = np.random.uniform(low=1.0,high=2.0, size=n_data)\n",
    "result['savings'] = np.random.uniform(low=0.0, high=1.0)\n",
    "result['credit_amount_perc'] = np.random.uniform(low=0.5,high=5.0, size=n_data)\n",
    "region = [None]*3\n",
    "for i in range(len(region)):\n",
    "    region[i] = np.zeros((n_data,))\n",
    "_tmp = np.random.randint(low=0, high=len(region), size=n_data)\n",
    "for i in range(_tmp.shape[0]):\n",
    "    region[_tmp[i]][i] = 1\n",
    "for i in range(len(region)):\n",
    "    result['region_'+str(i)]=region[i]"
   ]
  },
  {
   "cell_type": "code",
   "execution_count": 49,
   "metadata": {
    "ExecuteTime": {
     "end_time": "2023-02-09T06:28:41.949811Z",
     "start_time": "2023-02-09T06:28:41.944219Z"
    }
   },
   "outputs": [],
   "source": [
    "df = pd.DataFrame(result)"
   ]
  },
  {
   "cell_type": "code",
   "execution_count": 24,
   "metadata": {
    "ExecuteTime": {
     "end_time": "2023-02-09T06:59:13.233171Z",
     "start_time": "2023-02-09T06:59:13.223779Z"
    }
   },
   "outputs": [],
   "source": [
    "class PDModel:\n",
    "    @staticmethod\n",
    "    def create_data(n_data: int, seed: int=None, regime=-1.0):\n",
    "        if seed is not None:\n",
    "            np.random.seed(seed)\n",
    "        result = {}\n",
    "        result['age'] = np.random.uniform(low=0.0, high=1.0, size=n_data)\n",
    "        result['income'] = np.random.uniform(low=1.0,high=2.0, size=n_data)\n",
    "        result['savings'] = np.random.uniform(low=0.0, high=1.0)\n",
    "        result['credit_amount_perc'] = np.random.uniform(low=0.5,high=5.0, size=n_data)\n",
    "        \n",
    "        region = [None]*3\n",
    "        for i in range(len(region)):\n",
    "            region[i] = np.zeros((n_data,))\n",
    "        _tmp = np.random.randint(low=0, high=len(region), size=n_data)\n",
    "        for i in range(_tmp.shape[0]):\n",
    "            region[_tmp[i]][i] = 1\n",
    "        for i in range(len(region)):\n",
    "            result['region_'+str(i)]=region[i]\n",
    "        result['regime'] = regime\n",
    "        df = pd.DataFrame(result)\n",
    "        default_prob = PDModel.predict(df)\n",
    "        df['default_prob'] = default_prob\n",
    "        tmp = np.random.uniform(low=0.0,high=1.0, size=n_data)\n",
    "        defaulted = np.zeros((n_data,))\n",
    "        defaulted[tmp<default_prob] = 1.0\n",
    "        df['defaulted'] = defaulted\n",
    "        return df\n",
    "    \n",
    "    \n",
    "    @staticmethod\n",
    "    def predict(df):\n",
    "        beta0 = [0.5, 1.1, 0.7]\n",
    "        tmp = (0.5-df['age'])**2*df['credit_amount_perc']\n",
    "        x0 = -1.0*(0.5 * df['region_0'] + 1.1 * df['region_1'] + 0.7*df['region_2'])*tmp\n",
    "        x1 = -1.5*df['income']\n",
    "        x2 = -2.0*df['savings']\n",
    "        x3 = df['regime']\n",
    "        \n",
    "        \n",
    "        return np.exp(x0+x1+x2+x3)/(1.0+np.exp(x0+x1+x2+x3))"
   ]
  },
  {
   "cell_type": "code",
   "execution_count": 25,
   "metadata": {
    "ExecuteTime": {
     "end_time": "2023-02-09T06:59:14.293960Z",
     "start_time": "2023-02-09T06:59:14.275066Z"
    }
   },
   "outputs": [],
   "source": [
    "df ={}\n",
    "for regime in [-1.0,-0.5,0.0]:\n",
    "    df[str(regime)] = PDModel.create_data(10_000, regime=regime)"
   ]
  },
  {
   "cell_type": "code",
   "execution_count": 31,
   "metadata": {
    "ExecuteTime": {
     "end_time": "2023-02-09T07:03:24.101151Z",
     "start_time": "2023-02-09T07:03:23.534917Z"
    }
   },
   "outputs": [
    {
     "name": "stdout",
     "output_type": "stream",
     "text": [
      "-1.0 0.0083\n",
      "-0.5 0.011\n",
      "0.0 0.0436\n"
     ]
    },
    {
     "data": {
      "image/png": "[encoded data removed]",
      "text/plain": [
       "<Figure size 432x288 with 1 Axes>"
      ]
     },
     "metadata": {
      "needs_background": "light"
     },
     "output_type": "display_data"
    }
   ],
   "source": [
    "for k,v in df.items():\n",
    "    prob_d = PDModel.predict(v)\n",
    "    plt.hist(v['default_prob'],bins=100, label=k, density=True, alpha=0.3)\n",
    "    print(k, v['defaulted'].sum()/v['defaulted'].shape[0])\n",
    "plt.xlabel('pd')\n",
    "plt.legend();"
   ]
  },
  {
   "cell_type": "code",
   "execution_count": 32,
   "metadata": {
    "ExecuteTime": {
     "end_time": "2023-02-09T07:04:12.061587Z",
     "start_time": "2023-02-09T07:04:12.037171Z"
    }
   },
   "outputs": [
    {
     "data": {
      "text/html": [
       "<div>\n",
       "<style scoped>\n",
       "    .dataframe tbody tr th:only-of-type {\n",
       "        vertical-align: middle;\n",
       "    }\n",
       "\n",
       "    .dataframe tbody tr th {\n",
       "        vertical-align: top;\n",
       "    }\n",
       "\n",
       "    .dataframe thead th {\n",
       "        text-align: right;\n",
       "    }\n",
       "</style>\n",
       "<table border=\"1\" class=\"dataframe\">\n",
       "  <thead>\n",
       "    <tr style=\"text-align: right;\">\n",
       "      <th></th>\n",
       "      <th>age</th>\n",
       "      <th>income</th>\n",
       "      <th>savings</th>\n",
       "      <th>credit_amount_perc</th>\n",
       "      <th>region_0</th>\n",
       "      <th>region_1</th>\n",
       "      <th>region_2</th>\n",
       "      <th>regime</th>\n",
       "      <th>default_prob</th>\n",
       "      <th>defaulted</th>\n",
       "    </tr>\n",
       "  </thead>\n",
       "  <tbody>\n",
       "    <tr>\n",
       "      <th>0</th>\n",
       "      <td>0.373978</td>\n",
       "      <td>1.221637</td>\n",
       "      <td>0.684498</td>\n",
       "      <td>4.992852</td>\n",
       "      <td>0.0</td>\n",
       "      <td>0.0</td>\n",
       "      <td>1.0</td>\n",
       "      <td>-1.0</td>\n",
       "      <td>0.013967</td>\n",
       "      <td>0.0</td>\n",
       "    </tr>\n",
       "    <tr>\n",
       "      <th>1</th>\n",
       "      <td>0.817587</td>\n",
       "      <td>1.631251</td>\n",
       "      <td>0.684498</td>\n",
       "      <td>2.215440</td>\n",
       "      <td>0.0</td>\n",
       "      <td>1.0</td>\n",
       "      <td>0.0</td>\n",
       "      <td>-1.0</td>\n",
       "      <td>0.006295</td>\n",
       "      <td>0.0</td>\n",
       "    </tr>\n",
       "    <tr>\n",
       "      <th>2</th>\n",
       "      <td>0.539780</td>\n",
       "      <td>1.443255</td>\n",
       "      <td>0.684498</td>\n",
       "      <td>4.135070</td>\n",
       "      <td>0.0</td>\n",
       "      <td>1.0</td>\n",
       "      <td>0.0</td>\n",
       "      <td>-1.0</td>\n",
       "      <td>0.010549</td>\n",
       "      <td>1.0</td>\n",
       "    </tr>\n",
       "    <tr>\n",
       "      <th>3</th>\n",
       "      <td>0.443666</td>\n",
       "      <td>1.818636</td>\n",
       "      <td>0.684498</td>\n",
       "      <td>0.715999</td>\n",
       "      <td>0.0</td>\n",
       "      <td>0.0</td>\n",
       "      <td>1.0</td>\n",
       "      <td>-1.0</td>\n",
       "      <td>0.006069</td>\n",
       "      <td>0.0</td>\n",
       "    </tr>\n",
       "    <tr>\n",
       "      <th>4</th>\n",
       "      <td>0.688976</td>\n",
       "      <td>1.419847</td>\n",
       "      <td>0.684498</td>\n",
       "      <td>2.717374</td>\n",
       "      <td>1.0</td>\n",
       "      <td>0.0</td>\n",
       "      <td>0.0</td>\n",
       "      <td>-1.0</td>\n",
       "      <td>0.010485</td>\n",
       "      <td>0.0</td>\n",
       "    </tr>\n",
       "    <tr>\n",
       "      <th>...</th>\n",
       "      <td>...</td>\n",
       "      <td>...</td>\n",
       "      <td>...</td>\n",
       "      <td>...</td>\n",
       "      <td>...</td>\n",
       "      <td>...</td>\n",
       "      <td>...</td>\n",
       "      <td>...</td>\n",
       "      <td>...</td>\n",
       "      <td>...</td>\n",
       "    </tr>\n",
       "    <tr>\n",
       "      <th>9995</th>\n",
       "      <td>0.226871</td>\n",
       "      <td>1.256621</td>\n",
       "      <td>0.684498</td>\n",
       "      <td>3.655215</td>\n",
       "      <td>1.0</td>\n",
       "      <td>0.0</td>\n",
       "      <td>0.0</td>\n",
       "      <td>-1.0</td>\n",
       "      <td>0.012246</td>\n",
       "      <td>0.0</td>\n",
       "    </tr>\n",
       "    <tr>\n",
       "      <th>9996</th>\n",
       "      <td>0.474292</td>\n",
       "      <td>1.451229</td>\n",
       "      <td>0.684498</td>\n",
       "      <td>2.558013</td>\n",
       "      <td>0.0</td>\n",
       "      <td>0.0</td>\n",
       "      <td>1.0</td>\n",
       "      <td>-1.0</td>\n",
       "      <td>0.010488</td>\n",
       "      <td>0.0</td>\n",
       "    </tr>\n",
       "    <tr>\n",
       "      <th>9997</th>\n",
       "      <td>0.991113</td>\n",
       "      <td>1.137607</td>\n",
       "      <td>0.684498</td>\n",
       "      <td>1.809055</td>\n",
       "      <td>0.0</td>\n",
       "      <td>1.0</td>\n",
       "      <td>0.0</td>\n",
       "      <td>-1.0</td>\n",
       "      <td>0.010401</td>\n",
       "      <td>0.0</td>\n",
       "    </tr>\n",
       "    <tr>\n",
       "      <th>9998</th>\n",
       "      <td>0.165416</td>\n",
       "      <td>1.197787</td>\n",
       "      <td>0.684498</td>\n",
       "      <td>1.253122</td>\n",
       "      <td>1.0</td>\n",
       "      <td>0.0</td>\n",
       "      <td>0.0</td>\n",
       "      <td>-1.0</td>\n",
       "      <td>0.014262</td>\n",
       "      <td>0.0</td>\n",
       "    </tr>\n",
       "    <tr>\n",
       "      <th>9999</th>\n",
       "      <td>0.704487</td>\n",
       "      <td>1.313461</td>\n",
       "      <td>0.684498</td>\n",
       "      <td>3.401911</td>\n",
       "      <td>0.0</td>\n",
       "      <td>1.0</td>\n",
       "      <td>0.0</td>\n",
       "      <td>-1.0</td>\n",
       "      <td>0.011034</td>\n",
       "      <td>0.0</td>\n",
       "    </tr>\n",
       "  </tbody>\n",
       "</table>\n",
       "<p>10000 rows × 10 columns</p>\n",
       "</div>"
      ],
      "text/plain": [
       "           age    income   savings  credit_amount_perc  region_0  region_1  \\\n",
       "0     0.373978  1.221637  0.684498            4.992852       0.0       0.0   \n",
       "1     0.817587  1.631251  0.684498            2.215440       0.0       1.0   \n",
       "2     0.539780  1.443255  0.684498            4.135070       0.0       1.0   \n",
       "3     0.443666  1.818636  0.684498            0.715999       0.0       0.0   \n",
       "4     0.688976  1.419847  0.684498            2.717374       1.0       0.0   \n",
       "...        ...       ...       ...                 ...       ...       ...   \n",
       "9995  0.226871  1.256621  0.684498            3.655215       1.0       0.0   \n",
       "9996  0.474292  1.451229  0.684498            2.558013       0.0       0.0   \n",
       "9997  0.991113  1.137607  0.684498            1.809055       0.0       1.0   \n",
       "9998  0.165416  1.197787  0.684498            1.253122       1.0       0.0   \n",
       "9999  0.704487  1.313461  0.684498            3.401911       0.0       1.0   \n",
       "\n",
       "      region_2  regime  default_prob  defaulted  \n",
       "0          1.0    -1.0      0.013967        0.0  \n",
       "1          0.0    -1.0      0.006295        0.0  \n",
       "2          0.0    -1.0      0.010549        1.0  \n",
       "3          1.0    -1.0      0.006069        0.0  \n",
       "4          0.0    -1.0      0.010485        0.0  \n",
       "...        ...     ...           ...        ...  \n",
       "9995       0.0    -1.0      0.012246        0.0  \n",
       "9996       1.0    -1.0      0.010488        0.0  \n",
       "9997       0.0    -1.0      0.010401        0.0  \n",
       "9998       0.0    -1.0      0.014262        0.0  \n",
       "9999       0.0    -1.0      0.011034        0.0  \n",
       "\n",
       "[10000 rows x 10 columns]"
      ]
     },
     "execution_count": 32,
     "metadata": {},
     "output_type": "execute_result"
    }
   ],
   "source": [
    "df['-1.0']"
   ]
  }
 ],
 "metadata": {
  "hide_input": false,
  "kernelspec": {
   "display_name": "Python 3 (ipykernel)",
   "language": "python",
   "name": "python3"
  },
  "language_info": {
   "codemirror_mode": {
    "name": "ipython",
    "version": 3
   },
   "file_extension": ".py",
   "mimetype": "text/x-python",
   "name": "python",
   "nbconvert_exporter": "python",
   "pygments_lexer": "ipython3",
   "version": "3.9.7"
  },
  "toc": {
   "base_numbering": 1,
   "nav_menu": {},
   "number_sections": true,
   "sideBar": true,
   "skip_h1_title": false,
   "title_cell": "Table of Contents",
   "title_sidebar": "Contents",
   "toc_cell": false,
   "toc_position": {},
   "toc_section_display": true,
   "toc_window_display": false
  }
 },
 "nbformat": 4,
 "nbformat_minor": 4
}
